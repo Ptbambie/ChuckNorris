{
  "nbformat": 4,
  "nbformat_minor": 0,
  "metadata": {
    "colab": {
      "provenance": [],
      "authorship_tag": "ABX9TyNV/SjTLr2bXbW1EjTYE3aH",
      "include_colab_link": true
    },
    "kernelspec": {
      "name": "python3",
      "display_name": "Python 3"
    },
    "language_info": {
      "name": "python"
    }
  },
  "cells": [
    {
      "cell_type": "markdown",
      "metadata": {
        "id": "view-in-github",
        "colab_type": "text"
      },
      "source": [
        "<a href=\"https://colab.research.google.com/github/Ptbambie/ChuckNorris/blob/main/ChuckNorris_qu%C3%AAte2.ipynb\" target=\"_parent\"><img src=\"https://colab.research.google.com/assets/colab-badge.svg\" alt=\"Open In Colab\"/></a>"
      ]
    },
    {
      "cell_type": "code",
      "execution_count": 1,
      "metadata": {
        "colab": {
          "base_uri": "https://localhost:8080/"
        },
        "id": "BGjGiZ9GggeV",
        "outputId": "16698589-ec43-49c9-c89e-d5c266b743fb"
      },
      "outputs": [
        {
          "output_type": "stream",
          "name": "stdout",
          "text": [
            "                Blague Note\n",
            "0    Blague 1 (Page 1)  1/1\n",
            "1    Blague 2 (Page 1)  8/1\n",
            "2    Blague 3 (Page 1)  1/1\n",
            "3    Blague 4 (Page 1)  3/1\n",
            "4    Blague 5 (Page 1)  6/1\n",
            "..                 ...  ...\n",
            "95  Blague 16 (Page 5)  0/1\n",
            "96  Blague 17 (Page 5)  0/1\n",
            "97  Blague 18 (Page 5)  3/1\n",
            "98  Blague 19 (Page 5)  4/1\n",
            "99  Blague 20 (Page 5)  6/1\n",
            "\n",
            "[100 rows x 2 columns]\n"
          ]
        }
      ],
      "source": [
        "import requests\n",
        "from bs4 import BeautifulSoup\n",
        "import re\n",
        "import pandas as pd\n",
        "\n",
        "# URL de base\n",
        "base_url = \"http://www.chucknorrisfacts.fr/facts/recent\"\n",
        "headers = {\n",
        "    \"User-Agent\": \"Mozilla/5.0 (Windows NT 10.0; Win64; x64) \"\n",
        "                  \"AppleWebKit/537.36 (KHTML, like Gecko) Chrome/74.0.3729.169 Safari/537.36\"\n",
        "}\n",
        "\n",
        "jokes_and_notes = []  # Crée une liste pour stocker les paires de blagues et de notes\n",
        "\n",
        "# Boucle pour parcourir les 5 premières pages\n",
        "for page_num in range(1, 6):\n",
        "    url = f\"{base_url}/{page_num}\"\n",
        "    response = requests.get(url, headers=headers)\n",
        "\n",
        "    if response.status_code == 200:\n",
        "        page_content = response.text\n",
        "        soup = BeautifulSoup(page_content, 'html.parser')\n",
        "        joke_blocks = soup.find_all('div', class_='card')\n",
        "\n",
        "        for i, joke_block in enumerate(joke_blocks):\n",
        "            joke_text = joke_block.text\n",
        "            note_pattern = r'(\\d/\\d)'\n",
        "            notes = re.findall(note_pattern, joke_text)\n",
        "\n",
        "            if notes:\n",
        "                jokes_and_notes.append({\"Blague\": f\"Blague {i + 1} (Page {page_num})\", \"Note\": notes[0]})\n",
        "            else:\n",
        "                jokes_and_notes.append({\"Blague\": f\"Blague {i + 1} (Page {page_num})\", \"Note\": \"Aucune note trouvée\"})\n",
        "\n",
        "df = pd.DataFrame(jokes_and_notes)\n",
        "\n",
        "print(df)\n",
        "\n",
        "# Sauvegarde le DataFrame dans un fichier CSV\n",
        "df.to_csv('chuck_norris_facts_extended.csv', index=False)\n"
      ]
    }
  ]
}