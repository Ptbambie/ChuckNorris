{
  "nbformat": 4,
  "nbformat_minor": 0,
  "metadata": {
    "colab": {
      "provenance": [],
      "authorship_tag": "ABX9TyNCzAL/Whc+umjoFSM17mF9",
      "include_colab_link": true
    },
    "kernelspec": {
      "name": "python3",
      "display_name": "Python 3"
    },
    "language_info": {
      "name": "python"
    }
  },
  "cells": [
    {
      "cell_type": "markdown",
      "metadata": {
        "id": "view-in-github",
        "colab_type": "text"
      },
      "source": [
        "<a href=\"https://colab.research.google.com/github/Ptbambie/ChuckNorris/blob/main/ChukNorris_qu%C3%AAte1.ipynb\" target=\"_parent\"><img src=\"https://colab.research.google.com/assets/colab-badge.svg\" alt=\"Open In Colab\"/></a>"
      ]
    },
    {
      "cell_type": "code",
      "execution_count": 13,
      "metadata": {
        "colab": {
          "base_uri": "https://localhost:8080/"
        },
        "id": "zAiIvdaNeqX5",
        "outputId": "19f65801-1ad0-4eb3-9afb-06c75774c097"
      },
      "outputs": [
        {
          "output_type": "stream",
          "name": "stdout",
          "text": [
            "                                                                                                                                                   Blague  \\\n",
            "0   Quand Chuck Norris joue à GTA il tue plein de gangsters, a les 5 étoiles, braque une banque et brasse des millions d'euros. Ensuite il allume la PS4    \n",
            "1                                                                                                         Chuck Norris peut faire un habit avec un moine.   \n",
            "2                                                                                              Un jour, Chuck Norris a acheté du poisson chez le boucher.   \n",
            "3                                                                       Les requins regardent Les Dents de Chuck Norris à leurs soirées films d'horreur.    \n",
            "4                                          Quand Chuck Norris se masturbe au Texas, il y a un tremblement de terre en Russie...c'est l'effet Chuck Norris   \n",
            "5                                         Quand Chuck Norris sera vacciné contre le covid, c'est l'humanité entière qui aura acquis l'immunité collective   \n",
            "6                                                                                              Chuck Norris peut faire de la bière en brassant de l'air.    \n",
            "7                                                                           Chuck Norris mine de la crypto-monnaie avec la calculette de sa  montre Casio   \n",
            "8                                                            Un jour, Lara Croft à voulu battre Chuck Norris, maintenant on l'appelle Dora L'exploratrice   \n",
            "9                                                    Quand le prof disait à Chuck Norris de prendre la porte, Chuck repartait effectivement avec la porte   \n",
            "10                                                                            Quand Chuck Norris fait le moon-walk c'est réellement la terre qui avance !   \n",
            "11                                                                         Chuck Norris peut réanimer un feu simplement en lui faisant du bouche à bouche   \n",
            "12                                                                                                      Quand la nuit tombe, Chuck Norris sait la relever   \n",
            "13                                          Quand Chuck Norris allait à l'école maternelle, il avait des maîtresses, mais pas de la même manière que nous   \n",
            "14                                                                                                Chuck Norris a fini final fantasy 7 sans carte mémoire    \n",
            "15                                                                                                             Chuck Norris a franchi l'Everest à la nage   \n",
            "16                                                                                                          Chuck Norris a racketté Guy Roux avec succès    \n",
            "17                                                                Un jour, Chuck Norris a mis une olive au four. 1 heure plus tard, la dinde était prête.   \n",
            "18                          Lors d'un combat contre Vador, Luke Skywalker découvrit qu'il n'était pas le fils du ranger Walker. Il s'écria: \"Nooonnnn!!!\"   \n",
            "19                                                                             Quand Chuck Norris est troisième et qu'il double le second il est premier.   \n",
            "\n",
            "                Note  \n",
            "0   #231461(7.51/10)  \n",
            "1   #231391(7.08/10)  \n",
            "2   #231265(6.41/10)  \n",
            "3   #231251(6.83/10)  \n",
            "4   #231231(5.96/10)  \n",
            "5   #231220(6.07/10)  \n",
            "6   #231174(7.41/10)  \n",
            "7   #231170(8.06/10)  \n",
            "8   #231167(7.78/10)  \n",
            "9   #231146(5.54/10)  \n",
            "10  #231127(6.15/10)  \n",
            "11  #231124(7.90/10)  \n",
            "12  #231103(8.11/10)  \n",
            "13  #231084(5.77/10)  \n",
            "14  #231077(7.62/10)  \n",
            "15  #231073(6.59/10)  \n",
            "16  #231071(7.24/10)  \n",
            "17  #231059(6.31/10)  \n",
            "18  #231053(5.22/10)  \n",
            "19  #231052(6.36/10)  \n"
          ]
        }
      ],
      "source": [
        "import requests\n",
        "from bs4 import BeautifulSoup\n",
        "import pandas as pd\n",
        "\n",
        "url = \"http://www.chucknorrisfacts.fr/facts/recent\"\n",
        "\n",
        "headers = {\n",
        "    \"User-Agent\": \"Mozilla/5.0 (Windows NT 10.0; Win64; x64) \"\n",
        "                  \"AppleWebKit/537.36 (KHTML, like Gecko) Chrome/74.0.3729.169 Safari/537.36\"\n",
        "}\n",
        "\n",
        "response = requests.get(url, headers=headers)\n",
        "\n",
        "if response.status_code == 200:\n",
        "    page_content = response.text\n",
        "    soup = BeautifulSoup(page_content, 'html.parser')\n",
        "    joke_blocks = soup.find_all('div', class_='card')\n",
        "\n",
        "    if len(joke_blocks) >= 20:\n",
        "        jokes = []  # Crée une liste pour stocker les blagues\n",
        "        notes = []  # Crée une liste pour stocker les notes\n",
        "\n",
        "        for i, joke_block in enumerate(joke_blocks[:20]):\n",
        "            joke_text = joke_block.find('p', class_='card-text').text\n",
        "            note_tag = joke_block.find('div', class_='col-md-8 card-footer-left smaller')\n",
        "            if note_tag:\n",
        "                note = note_tag.get_text(strip=True)\n",
        "            else:\n",
        "                note = \"Aucune note trouvée\"\n",
        "\n",
        "            jokes.append(joke_text)\n",
        "            notes.append(note)\n",
        "\n",
        "        # Crée un DataFrame avec deux colonnes : Blague et Note\n",
        "        df = pd.DataFrame().assign(Blague=jokes, Note=notes)\n",
        "\n",
        "        # Affiche le DataFrame\n",
        "        pd.set_option('display.max_colwidth', None)  # Pour afficher le texte complet des blagues\n",
        "        print(df)\n",
        "    else:\n",
        "        print(\"Il n'y a pas suffisamment de blagues pour afficher la 20e.\")\n",
        "else:\n",
        "    print(\"La requête a échoué avec le code HTTP :\", response.status_code)\n"
      ]
    }
  ]
}