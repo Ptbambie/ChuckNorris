{
  "nbformat": 4,
  "nbformat_minor": 0,
  "metadata": {
    "colab": {
      "provenance": [],
      "authorship_tag": "ABX9TyMHuBZ7SyQm9T7PeWilzpUH",
      "include_colab_link": true
    },
    "kernelspec": {
      "name": "python3",
      "display_name": "Python 3"
    },
    "language_info": {
      "name": "python"
    }
  },
  "cells": [
    {
      "cell_type": "markdown",
      "metadata": {
        "id": "view-in-github",
        "colab_type": "text"
      },
      "source": [
        "<a href=\"https://colab.research.google.com/github/Ptbambie/ChuckNorris/blob/main/ChukNorris_qu%C3%AAte1.ipynb\" target=\"_parent\"><img src=\"https://colab.research.google.com/assets/colab-badge.svg\" alt=\"Open In Colab\"/></a>"
      ]
    },
    {
      "cell_type": "code",
      "execution_count": null,
      "metadata": {
        "colab": {
          "base_uri": "https://localhost:8080/"
        },
        "id": "zAiIvdaNeqX5",
        "outputId": "54cb293e-f05e-4be1-cffc-1d758bcfaaf9"
      },
      "outputs": [
        {
          "output_type": "stream",
          "name": "stdout",
          "text": [
            "       Blague Note\n",
            "0    Blague 1  1/1\n",
            "1    Blague 2  8/1\n",
            "2    Blague 3  1/1\n",
            "3    Blague 4  3/1\n",
            "4    Blague 5  6/1\n",
            "5    Blague 6  7/1\n",
            "6    Blague 7  1/1\n",
            "7    Blague 8  6/1\n",
            "8    Blague 9  8/1\n",
            "9   Blague 10  4/1\n",
            "10  Blague 11  5/1\n",
            "11  Blague 12  0/1\n",
            "12  Blague 13  1/1\n",
            "13  Blague 14  7/1\n",
            "14  Blague 15  2/1\n",
            "15  Blague 16  9/1\n",
            "16  Blague 17  4/1\n",
            "17  Blague 18  1/1\n",
            "18  Blague 19  2/1\n",
            "19  Blague 20  6/1\n"
          ]
        }
      ],
      "source": [
        "import requests\n",
        "from bs4 import BeautifulSoup\n",
        "import re\n",
        "import pandas as pd\n",
        "\n",
        "url = \"http://www.chucknorrisfacts.fr/facts/recent\"\n",
        "\n",
        "headers = {\n",
        "    \"User-Agent\": \"Mozilla/5.0 (Windows NT 10.0; Win64; x64) \"\n",
        "                  \"AppleWebKit/537.36 (KHTML, like Gecko) Chrome/74.0.3729.169 Safari/537.36\"\n",
        "}\n",
        "\n",
        "response = requests.get(url, headers=headers)\n",
        "\n",
        "if response.status_code == 200:\n",
        "    page_content = response.text\n",
        "    soup = BeautifulSoup(page_content, 'html.parser')\n",
        "    joke_blocks = soup.find_all('div', class_='card')\n",
        "\n",
        "    if len(joke_blocks) >= 20:\n",
        "        jokes_and_notes = []  # Crée une liste pour stocker les paires de blagues et de notes\n",
        "\n",
        "        for i, joke_block in enumerate(joke_blocks[:20]):\n",
        "            joke_text = joke_block.text\n",
        "            note_pattern = r'(\\d/\\d)'\n",
        "            notes = re.findall(note_pattern, joke_text)\n",
        "\n",
        "            if notes:\n",
        "                jokes_and_notes.append({\"Blague\": f\"Blague {i+1}\", \"Note\": notes[0]})\n",
        "            else:\n",
        "                jokes_and_notes.append({\"Blague\": f\"Blague {i+1}\", \"Note\": \"Aucune note trouvée\"})\n",
        "\n",
        "        # Transformez la liste en un DataFrame\n",
        "        df = pd.DataFrame(jokes_and_notes)\n",
        "\n",
        "        # Afficher le DataFrame\n",
        "        print(df)\n",
        "    else:\n",
        "        print(\"Il n'y a pas suffisamment de blagues pour afficher la 20e.\")\n",
        "else:\n",
        "    print(\"La requête a échoué avec le code HTTP :\", response.status_code)\n"
      ]
    }
  ]
}