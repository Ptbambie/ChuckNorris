{
  "nbformat": 4,
  "nbformat_minor": 0,
  "metadata": {
    "colab": {
      "provenance": [],
      "authorship_tag": "ABX9TyPzojDLxpRkNpNyZKLOLEG5",
      "include_colab_link": true
    },
    "kernelspec": {
      "name": "python3",
      "display_name": "Python 3"
    },
    "language_info": {
      "name": "python"
    }
  },
  "cells": [
    {
      "cell_type": "markdown",
      "metadata": {
        "id": "view-in-github",
        "colab_type": "text"
      },
      "source": [
        "<a href=\"https://colab.research.google.com/github/Ptbambie/ChuckNorris/blob/main/ChristopherNolan_qu%C3%AAte3.ipynb\" target=\"_parent\"><img src=\"https://colab.research.google.com/assets/colab-badge.svg\" alt=\"Open In Colab\"/></a>"
      ]
    },
    {
      "cell_type": "code",
      "execution_count": 30,
      "metadata": {
        "colab": {
          "base_uri": "https://localhost:8080/"
        },
        "id": "iIyaRrpwplN4",
        "outputId": "2881ad65-b4a3-4988-8455-baa0146b72e6"
      },
      "outputs": [
        {
          "output_type": "stream",
          "name": "stdout",
          "text": [
            "['https://www.allocine.fr/personne/fichepersonne_gen_cpersonne=30367.html', 'https://www.allocine.fr/personne/fichepersonne_gen_cpersonne=19334.html', 'https://www.allocine.fr/personne/fichepersonne_gen_cpersonne=65719.html', 'https://www.allocine.fr/personne/fichepersonne_gen_cpersonne=2535.html', 'https://www.allocine.fr/personne/fichepersonne_gen_cpersonne=5293.html', 'https://www.allocine.fr/personne/fichepersonne_gen_cpersonne=117304.html', 'https://www.allocine.fr/personne/fichepersonne_gen_cpersonne=1196.html', 'https://www.allocine.fr/personne/fichepersonne_gen_cpersonne=487728.html', 'https://www.allocine.fr/personne/fichepersonne_gen_cpersonne=35000.html']\n",
            "L'âge moyen des acteurs et actrices dans le film 'Interstellar' est d'environ 72677.94 ans.\n"
          ]
        }
      ],
      "source": [
        "from bs4 import BeautifulSoup\n",
        "import requests\n",
        "import re\n",
        "\n",
        "# Fonction pour extraire l'âge d'un acteur/actrice\n",
        "def extract_age(actor_url):\n",
        "    html = requests.get(actor_url)\n",
        "    soup = BeautifulSoup(html.text, 'html.parser')\n",
        "\n",
        "    age_tags = soup.find_all('div', {'class': 'meta-body-item'})\n",
        "\n",
        "    ages = []\n",
        "    for age_tag in age_tags:\n",
        "        # Recherchez la balise strong à l'intérieur de la balise\n",
        "        strong_tag = age_tag.find('strong')\n",
        "        if strong_tag:\n",
        "            # Obtenez le texte à l'intérieur de la balise strong\n",
        "            age_text = strong_tag.get_text()\n",
        "            # Extraire uniquement les chiffres de la chaîne\n",
        "            age_digits = ''.join(filter(str.isdigit, age_text))\n",
        "            if age_digits:\n",
        "                ages.append(int(age_digits))\n",
        "\n",
        "    return ages\n",
        "\n",
        "film_url = \"https://www.allocine.fr/film/fichefilm-114782/casting/\"\n",
        "\n",
        "html = requests.get(film_url)\n",
        "soup = BeautifulSoup(html.text, 'html.parser')\n",
        "actor_urls = []\n",
        "\n",
        "actor_divs = soup.find_all('div', {'class': 'meta-title'})\n",
        "\n",
        "for actor_div in actor_divs:\n",
        "    actor_link = actor_div.find('a', {'class': 'meta-title-link'})\n",
        "    if actor_link:\n",
        "        actor_url = actor_link['href']\n",
        "        # Compléte le lien partiel pour obtenir l'URL complet\n",
        "        full_url = f\"https://www.allocine.fr{actor_url}\"\n",
        "        actor_urls.append(full_url)\n",
        "\n",
        "print(actor_urls)\n",
        "\n",
        "all_ages = [extract_age(actor_url) for actor_url in actor_urls]\n",
        "\n",
        "ages = [age for sublist in all_ages for age in sublist if age]\n",
        "\n",
        "# Calcule de l'âge moyen (uniquement si la liste des âges n'est pas vide)\n",
        "if len(ages) > 0:\n",
        "    average_age = sum(ages) / len(ages)\n",
        "    print(f\"L'âge moyen des acteurs et actrices dans le film 'Interstellar' est d'environ {average_age:.2f} ans.\")\n",
        "else:\n",
        "    print(\"Aucun âge trouvé pour les acteurs.\")\n"
      ]
    }
  ]
}